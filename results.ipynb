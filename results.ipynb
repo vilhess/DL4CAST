{
 "cells": [
  {
   "cell_type": "code",
   "execution_count": 35,
   "id": "5926a382",
   "metadata": {},
   "outputs": [],
   "source": [
    "import pandas as pd\n",
    "from aeon.visualisation import plot_critical_difference"
   ]
  },
  {
   "cell_type": "code",
   "execution_count": 41,
   "id": "ee247676",
   "metadata": {},
   "outputs": [],
   "source": [
    "df = pd.read_json(\"results/multivariate/mse.json\")"
   ]
  },
  {
   "cell_type": "code",
   "execution_count": 42,
   "id": "364641c9",
   "metadata": {},
   "outputs": [
    {
     "name": "stderr",
     "output_type": "stream",
     "text": [
      "/var/folders/03/23xsm68s2z31cb34lbb3rlwh0000gn/T/ipykernel_1952/3732849574.py:24: FutureWarning: ChainedAssignmentError: behaviour will change in pandas 3.0!\n",
      "You are setting values through chained assignment. Currently this works in certain cases, but when using Copy-on-Write (which will become the default behaviour in pandas 3.0) this will never work to update the original DataFrame or Series, because the intermediate object on which we are setting values will behave as a copy.\n",
      "A typical example is when you are setting values in a column of a DataFrame, like:\n",
      "\n",
      "df[\"col\"][row_indexer] = value\n",
      "\n",
      "Use `df.loc[row_indexer, \"col\"] = values` instead, to perform the assignment in a single step and ensure this keeps updating the original `df`.\n",
      "\n",
      "See the caveats in the documentation: https://pandas.pydata.org/pandas-docs/stable/user_guide/indexing.html#returning-a-view-versus-a-copy\n",
      "\n",
      "  df[\"national_illness\"][\"patchtst_336\"] = df[\"national_illness\"][\"patchtst_104\"]\n"
     ]
    }
   ],
   "source": [
    "datasets = df.columns.tolist()\n",
    "contexts = df.index.tolist()\n",
    "TARGET_LEN=24\n",
    "new_df = {}\n",
    "\n",
    "for ctx_len in contexts:\n",
    "    subdf = df.loc[ctx_len]\n",
    "    for dataset in datasets:\n",
    "        curr_ds = subdf[dataset]\n",
    "        try:\n",
    "            curr_ds = curr_ds[str(TARGET_LEN)]\n",
    "            if dataset not in new_df:\n",
    "                new_df[dataset] = {}\n",
    "            for model, mse in curr_ds.items():\n",
    "                model_name = model + \"_\" + str(ctx_len)\n",
    "                new_df[dataset][model_name] = mse\n",
    "        except:\n",
    "            continue\n",
    "\n",
    "df = pd.DataFrame(new_df)\n",
    "\n",
    "\n",
    "\n",
    "df[\"national_illness\"][\"patchtst_336\"] = df[\"national_illness\"][\"patchtst_104\"]\n",
    "# remove index patchtst_104\n",
    "df = df.drop(index=[\"patchtst_104\"])\n"
   ]
  },
  {
   "cell_type": "code",
   "execution_count": 43,
   "id": "7a2b53bb",
   "metadata": {},
   "outputs": [
    {
     "data": {
      "text/html": [
       "<div>\n",
       "<style scoped>\n",
       "    .dataframe tbody tr th:only-of-type {\n",
       "        vertical-align: middle;\n",
       "    }\n",
       "\n",
       "    .dataframe tbody tr th {\n",
       "        vertical-align: top;\n",
       "    }\n",
       "\n",
       "    .dataframe thead th {\n",
       "        text-align: right;\n",
       "    }\n",
       "</style>\n",
       "<table border=\"1\" class=\"dataframe\">\n",
       "  <thead>\n",
       "    <tr style=\"text-align: right;\">\n",
       "      <th></th>\n",
       "      <th>national_illness</th>\n",
       "      <th>exchange_rate</th>\n",
       "      <th>etth2</th>\n",
       "      <th>ettm1</th>\n",
       "      <th>ettm2</th>\n",
       "      <th>weather</th>\n",
       "    </tr>\n",
       "  </thead>\n",
       "  <tbody>\n",
       "    <tr>\n",
       "      <th>timemixer_96</th>\n",
       "      <td>2.222457</td>\n",
       "      <td>0.024884</td>\n",
       "      <td>0.124169</td>\n",
       "      <td>0.275506</td>\n",
       "      <td>0.070083</td>\n",
       "      <td>0.102729</td>\n",
       "    </tr>\n",
       "    <tr>\n",
       "      <th>vaformer_96</th>\n",
       "      <td>2.215279</td>\n",
       "      <td>0.026501</td>\n",
       "      <td>0.120829</td>\n",
       "      <td>0.260865</td>\n",
       "      <td>0.069834</td>\n",
       "      <td>0.096052</td>\n",
       "    </tr>\n",
       "    <tr>\n",
       "      <th>itransformer_96</th>\n",
       "      <td>3.626936</td>\n",
       "      <td>0.034832</td>\n",
       "      <td>0.129704</td>\n",
       "      <td>0.273449</td>\n",
       "      <td>0.078996</td>\n",
       "      <td>0.110265</td>\n",
       "    </tr>\n",
       "    <tr>\n",
       "      <th>moment_512</th>\n",
       "      <td>2.752347</td>\n",
       "      <td>0.045100</td>\n",
       "      <td>0.242549</td>\n",
       "      <td>0.276174</td>\n",
       "      <td>0.172010</td>\n",
       "      <td>0.245127</td>\n",
       "    </tr>\n",
       "    <tr>\n",
       "      <th>samformer_512</th>\n",
       "      <td>4.458724</td>\n",
       "      <td>0.209166</td>\n",
       "      <td>0.194170</td>\n",
       "      <td>0.567232</td>\n",
       "      <td>0.127837</td>\n",
       "      <td>0.254198</td>\n",
       "    </tr>\n",
       "    <tr>\n",
       "      <th>patchtst_336</th>\n",
       "      <td>3.740494</td>\n",
       "      <td>0.031071</td>\n",
       "      <td>0.127681</td>\n",
       "      <td>0.224546</td>\n",
       "      <td>0.065345</td>\n",
       "      <td>0.088666</td>\n",
       "    </tr>\n",
       "  </tbody>\n",
       "</table>\n",
       "</div>"
      ],
      "text/plain": [
       "                 national_illness  exchange_rate     etth2     ettm1  \\\n",
       "timemixer_96             2.222457       0.024884  0.124169  0.275506   \n",
       "vaformer_96              2.215279       0.026501  0.120829  0.260865   \n",
       "itransformer_96          3.626936       0.034832  0.129704  0.273449   \n",
       "moment_512               2.752347       0.045100  0.242549  0.276174   \n",
       "samformer_512            4.458724       0.209166  0.194170  0.567232   \n",
       "patchtst_336             3.740494       0.031071  0.127681  0.224546   \n",
       "\n",
       "                    ettm2   weather  \n",
       "timemixer_96     0.070083  0.102729  \n",
       "vaformer_96      0.069834  0.096052  \n",
       "itransformer_96  0.078996  0.110265  \n",
       "moment_512       0.172010  0.245127  \n",
       "samformer_512    0.127837  0.254198  \n",
       "patchtst_336     0.065345  0.088666  "
      ]
     },
     "execution_count": 43,
     "metadata": {},
     "output_type": "execute_result"
    }
   ],
   "source": [
    "df"
   ]
  },
  {
   "cell_type": "code",
   "execution_count": 44,
   "id": "b5a8e087",
   "metadata": {},
   "outputs": [
    {
     "data": {
      "image/png": "[encoded data removed]",
      "text/plain": [
       "<Figure size 800x250 with 1 Axes>"
      ]
     },
     "metadata": {},
     "output_type": "display_data"
    }
   ],
   "source": [
    "results = df.T\n",
    "methods = results.columns\n",
    "plot = plot_critical_difference(results.values, methods, alpha=0.05, width=8, test='nemenyi', lower_better=True)  "
   ]
  }
 ],
 "metadata": {
  "kernelspec": {
   "display_name": "anots",
   "language": "python",
   "name": "python3"
  },
  "language_info": {
   "codemirror_mode": {
    "name": "ipython",
    "version": 3
   },
   "file_extension": ".py",
   "mimetype": "text/x-python",
   "name": "python",
   "nbconvert_exporter": "python",
   "pygments_lexer": "ipython3",
   "version": "3.12.2"
  }
 },
 "nbformat": 4,
 "nbformat_minor": 5
}
