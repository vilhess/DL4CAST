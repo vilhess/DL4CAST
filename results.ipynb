{
 "cells": [
  {
   "cell_type": "code",
   "execution_count": 199,
   "id": "5926a382",
   "metadata": {},
   "outputs": [],
   "source": [
    "import pandas as pd\n",
    "from aeon.visualisation import plot_critical_difference"
   ]
  },
  {
   "cell_type": "code",
   "execution_count": null,
   "id": "364641c9",
   "metadata": {},
   "outputs": [],
   "source": [
    "TARGET_LEN=192\n",
    "KIND = \"univariate\"  # Change to \"univariate\" if needed\n",
    "METRIC = \"mse\"  # Change to \"mse\" if needed\n",
    "\n",
    "df = pd.read_json(f\"results/{KIND}/{METRIC}.json\")\n",
    "\n",
    "\n",
    "datasets = df.columns.tolist()\n",
    "contexts = df.index.tolist()\n",
    "\n",
    "new_df = {}\n",
    "\n",
    "for ctx_len in contexts:\n",
    "    subdf = df.loc[ctx_len]\n",
    "    for dataset in datasets:\n",
    "        curr_ds = subdf[dataset]\n",
    "        try:\n",
    "            curr_ds = curr_ds[str(TARGET_LEN)]\n",
    "            if dataset not in new_df:\n",
    "                new_df[dataset] = {}\n",
    "            for model, mse in curr_ds.items():\n",
    "                model_name = model + \"_\" + str(ctx_len)\n",
    "                new_df[dataset][model_name] = mse\n",
    "        except:\n",
    "            continue\n",
    "\n",
    "df = pd.DataFrame(new_df)\n"
   ]
  },
  {
   "cell_type": "code",
   "execution_count": 201,
   "id": "eb00c7ce",
   "metadata": {},
   "outputs": [],
   "source": [
    "model_names = df.index.str.extract(r'^(.*)_\\d+$')[0].values.tolist()\n",
    "df['model'] = model_names\n",
    "\n",
    "# Step 2: Group by model and aggregate using first non-NaN per column\n",
    "merged_df = df.groupby('model').agg(lambda col: col.dropna().iloc[0] if not col.dropna().empty else pd.NA)\n",
    "\n",
    "# Optional: sort for readability\n",
    "merged_df = merged_df.sort_index()"
   ]
  },
  {
   "cell_type": "code",
   "execution_count": 202,
   "id": "d6a3cb9b",
   "metadata": {},
   "outputs": [
    {
     "data": {
      "text/html": [
       "<div>\n",
       "<style scoped>\n",
       "    .dataframe tbody tr th:only-of-type {\n",
       "        vertical-align: middle;\n",
       "    }\n",
       "\n",
       "    .dataframe tbody tr th {\n",
       "        vertical-align: top;\n",
       "    }\n",
       "\n",
       "    .dataframe thead th {\n",
       "        text-align: right;\n",
       "    }\n",
       "</style>\n",
       "<table border=\"1\" class=\"dataframe\">\n",
       "  <thead>\n",
       "    <tr style=\"text-align: right;\">\n",
       "      <th></th>\n",
       "      <th>exchange_rate</th>\n",
       "      <th>etth2</th>\n",
       "      <th>ettm2</th>\n",
       "      <th>ettm1</th>\n",
       "      <th>weather</th>\n",
       "      <th>etth1</th>\n",
       "    </tr>\n",
       "    <tr>\n",
       "      <th>model</th>\n",
       "      <th></th>\n",
       "      <th></th>\n",
       "      <th></th>\n",
       "      <th></th>\n",
       "      <th></th>\n",
       "      <th></th>\n",
       "    </tr>\n",
       "  </thead>\n",
       "  <tbody>\n",
       "    <tr>\n",
       "      <th>crossformer</th>\n",
       "      <td>0.546352</td>\n",
       "      <td>0.275665</td>\n",
       "      <td>0.178483</td>\n",
       "      <td>0.073395</td>\n",
       "      <td>0.001945</td>\n",
       "      <td>0.113658</td>\n",
       "    </tr>\n",
       "    <tr>\n",
       "      <th>itransformer</th>\n",
       "      <td>0.217116</td>\n",
       "      <td>0.336229</td>\n",
       "      <td>0.195088</td>\n",
       "      <td>0.075704</td>\n",
       "      <td>0.001611</td>\n",
       "      <td>0.130205</td>\n",
       "    </tr>\n",
       "    <tr>\n",
       "      <th>moment</th>\n",
       "      <td>0.475680</td>\n",
       "      <td>0.308189</td>\n",
       "      <td>0.169873</td>\n",
       "      <td>0.094188</td>\n",
       "      <td>0.001336</td>\n",
       "      <td>0.129491</td>\n",
       "    </tr>\n",
       "    <tr>\n",
       "      <th>patchtst</th>\n",
       "      <td>0.259566</td>\n",
       "      <td>0.295417</td>\n",
       "      <td>0.180124</td>\n",
       "      <td>0.072977</td>\n",
       "      <td>0.001257</td>\n",
       "      <td>0.110691</td>\n",
       "    </tr>\n",
       "    <tr>\n",
       "      <th>samformer</th>\n",
       "      <td>0.247494</td>\n",
       "      <td>0.299085</td>\n",
       "      <td>0.183293</td>\n",
       "      <td>0.072399</td>\n",
       "      <td>0.001349</td>\n",
       "      <td>0.112025</td>\n",
       "    </tr>\n",
       "    <tr>\n",
       "      <th>timemixer</th>\n",
       "      <td>0.220021</td>\n",
       "      <td>0.322345</td>\n",
       "      <td>0.195434</td>\n",
       "      <td>0.076901</td>\n",
       "      <td>0.001523</td>\n",
       "      <td>0.128258</td>\n",
       "    </tr>\n",
       "    <tr>\n",
       "      <th>vaformer</th>\n",
       "      <td>0.229111</td>\n",
       "      <td>0.310889</td>\n",
       "      <td>0.195372</td>\n",
       "      <td>0.098608</td>\n",
       "      <td>0.001680</td>\n",
       "      <td>0.135863</td>\n",
       "    </tr>\n",
       "  </tbody>\n",
       "</table>\n",
       "</div>"
      ],
      "text/plain": [
       "              exchange_rate     etth2     ettm2     ettm1   weather     etth1\n",
       "model                                                                        \n",
       "crossformer        0.546352  0.275665  0.178483  0.073395  0.001945  0.113658\n",
       "itransformer       0.217116  0.336229  0.195088  0.075704  0.001611  0.130205\n",
       "moment             0.475680  0.308189  0.169873  0.094188  0.001336  0.129491\n",
       "patchtst           0.259566  0.295417  0.180124  0.072977  0.001257  0.110691\n",
       "samformer          0.247494  0.299085  0.183293  0.072399  0.001349  0.112025\n",
       "timemixer          0.220021  0.322345  0.195434  0.076901  0.001523  0.128258\n",
       "vaformer           0.229111  0.310889  0.195372  0.098608  0.001680  0.135863"
      ]
     },
     "execution_count": 202,
     "metadata": {},
     "output_type": "execute_result"
    }
   ],
   "source": [
    "merged_df"
   ]
  },
  {
   "cell_type": "code",
   "execution_count": null,
   "id": "b5a8e087",
   "metadata": {},
   "outputs": [
    {
     "data": {
      "image/png": "[encoded data removed]",
      "text/plain": [
       "<Figure size 800x260 with 1 Axes>"
      ]
     },
     "metadata": {},
     "output_type": "display_data"
    }
   ],
   "source": [
    "results = merged_df.T\n",
    "methods = results.columns\n",
    "plot = plot_critical_difference(results.values, methods, alpha=0.05, width=8, test='nemenyi', lower_better=True)  \n",
    "plt.title(f\"Critical Difference Diagram for {KIND} MSE at Target Length {TARGET_LEN}\")"
   ]
  },
  {
   "cell_type": "code",
   "execution_count": null,
   "id": "2e0a3202",
   "metadata": {},
   "outputs": [],
   "source": []
  }
 ],
 "metadata": {
  "kernelspec": {
   "display_name": "anots",
   "language": "python",
   "name": "python3"
  },
  "language_info": {
   "codemirror_mode": {
    "name": "ipython",
    "version": 3
   },
   "file_extension": ".py",
   "mimetype": "text/x-python",
   "name": "python",
   "nbconvert_exporter": "python",
   "pygments_lexer": "ipython3",
   "version": "3.12.2"
  }
 },
 "nbformat": 4,
 "nbformat_minor": 5
}
