{
 "cells": [
  {
   "cell_type": "code",
   "execution_count": 48,
   "id": "5926a382",
   "metadata": {},
   "outputs": [],
   "source": [
    "import pandas as pd\n",
    "from aeon.visualisation import plot_critical_difference"
   ]
  },
  {
   "cell_type": "code",
   "execution_count": 49,
   "id": "ee247676",
   "metadata": {},
   "outputs": [],
   "source": [
    "df = pd.read_json(\"results/multivariate/mae.json\")"
   ]
  },
  {
   "cell_type": "code",
   "execution_count": 50,
   "id": "364641c9",
   "metadata": {},
   "outputs": [],
   "source": [
    "datasets = df.columns.tolist()\n",
    "contexts = df.index.tolist()\n",
    "TARGET_LEN=24\n",
    "new_df = {}\n",
    "\n",
    "for ctx_len in contexts:\n",
    "    subdf = df.loc[ctx_len]\n",
    "    for dataset in datasets:\n",
    "        curr_ds = subdf[dataset]\n",
    "        try:\n",
    "            curr_ds = curr_ds[str(TARGET_LEN)]\n",
    "            if dataset not in new_df:\n",
    "                new_df[dataset] = {}\n",
    "            for model, mse in curr_ds.items():\n",
    "                model_name = model + \"_\" + str(ctx_len)\n",
    "                new_df[dataset][model_name] = mse\n",
    "        except:\n",
    "            continue\n",
    "\n",
    "df = pd.DataFrame(new_df)\n"
   ]
  },
  {
   "cell_type": "code",
   "execution_count": 51,
   "id": "eb00c7ce",
   "metadata": {},
   "outputs": [],
   "source": [
    "model_names = df.index.str.extract(r'^(.*)_\\d+$')[0].values.tolist()\n",
    "df['model'] = model_names\n",
    "\n",
    "# Step 2: Group by model and aggregate using first non-NaN per column\n",
    "merged_df = df.groupby('model').agg(lambda col: col.dropna().iloc[0] if not col.dropna().empty else pd.NA)\n",
    "\n",
    "# Optional: sort for readability\n",
    "merged_df = merged_df.sort_index()"
   ]
  },
  {
   "cell_type": "code",
   "execution_count": 52,
   "id": "d6a3cb9b",
   "metadata": {},
   "outputs": [
    {
     "data": {
      "text/html": [
       "<div>\n",
       "<style scoped>\n",
       "    .dataframe tbody tr th:only-of-type {\n",
       "        vertical-align: middle;\n",
       "    }\n",
       "\n",
       "    .dataframe tbody tr th {\n",
       "        vertical-align: top;\n",
       "    }\n",
       "\n",
       "    .dataframe thead th {\n",
       "        text-align: right;\n",
       "    }\n",
       "</style>\n",
       "<table border=\"1\" class=\"dataframe\">\n",
       "  <thead>\n",
       "    <tr style=\"text-align: right;\">\n",
       "      <th></th>\n",
       "      <th>national_illness</th>\n",
       "      <th>exchange_rate</th>\n",
       "      <th>etth2</th>\n",
       "      <th>etth1</th>\n",
       "      <th>ettm1</th>\n",
       "      <th>ettm2</th>\n",
       "      <th>weather</th>\n",
       "    </tr>\n",
       "    <tr>\n",
       "      <th>model</th>\n",
       "      <th></th>\n",
       "      <th></th>\n",
       "      <th></th>\n",
       "      <th></th>\n",
       "      <th></th>\n",
       "      <th></th>\n",
       "      <th></th>\n",
       "    </tr>\n",
       "  </thead>\n",
       "  <tbody>\n",
       "    <tr>\n",
       "      <th>itransformer</th>\n",
       "      <td>1.362611</td>\n",
       "      <td>0.132993</td>\n",
       "      <td>0.249490</td>\n",
       "      <td>0.392486</td>\n",
       "      <td>0.337911</td>\n",
       "      <td>0.189836</td>\n",
       "      <td>0.143995</td>\n",
       "    </tr>\n",
       "    <tr>\n",
       "      <th>moment</th>\n",
       "      <td>1.112890</td>\n",
       "      <td>0.152771</td>\n",
       "      <td>0.352863</td>\n",
       "      <td>0.405627</td>\n",
       "      <td>0.348891</td>\n",
       "      <td>0.293029</td>\n",
       "      <td>0.304201</td>\n",
       "    </tr>\n",
       "    <tr>\n",
       "      <th>patchtst</th>\n",
       "      <td>1.404431</td>\n",
       "      <td>0.125090</td>\n",
       "      <td>0.252184</td>\n",
       "      <td>0.440007</td>\n",
       "      <td>0.301304</td>\n",
       "      <td>0.168514</td>\n",
       "      <td>0.122615</td>\n",
       "    </tr>\n",
       "    <tr>\n",
       "      <th>samformer</th>\n",
       "      <td>1.497766</td>\n",
       "      <td>0.328025</td>\n",
       "      <td>0.310965</td>\n",
       "      <td>0.551504</td>\n",
       "      <td>0.511764</td>\n",
       "      <td>0.255016</td>\n",
       "      <td>0.309246</td>\n",
       "    </tr>\n",
       "    <tr>\n",
       "      <th>timemixer</th>\n",
       "      <td>0.994171</td>\n",
       "      <td>0.107093</td>\n",
       "      <td>0.243516</td>\n",
       "      <td>0.405003</td>\n",
       "      <td>0.337393</td>\n",
       "      <td>0.176168</td>\n",
       "      <td>0.144182</td>\n",
       "    </tr>\n",
       "    <tr>\n",
       "      <th>vaformer</th>\n",
       "      <td>0.923597</td>\n",
       "      <td>0.111970</td>\n",
       "      <td>0.239610</td>\n",
       "      <td>0.384722</td>\n",
       "      <td>0.323023</td>\n",
       "      <td>0.173027</td>\n",
       "      <td>0.130136</td>\n",
       "    </tr>\n",
       "  </tbody>\n",
       "</table>\n",
       "</div>"
      ],
      "text/plain": [
       "              national_illness  exchange_rate     etth2     etth1     ettm1  \\\n",
       "model                                                                         \n",
       "itransformer          1.362611       0.132993  0.249490  0.392486  0.337911   \n",
       "moment                1.112890       0.152771  0.352863  0.405627  0.348891   \n",
       "patchtst              1.404431       0.125090  0.252184  0.440007  0.301304   \n",
       "samformer             1.497766       0.328025  0.310965  0.551504  0.511764   \n",
       "timemixer             0.994171       0.107093  0.243516  0.405003  0.337393   \n",
       "vaformer              0.923597       0.111970  0.239610  0.384722  0.323023   \n",
       "\n",
       "                 ettm2   weather  \n",
       "model                             \n",
       "itransformer  0.189836  0.143995  \n",
       "moment        0.293029  0.304201  \n",
       "patchtst      0.168514  0.122615  \n",
       "samformer     0.255016  0.309246  \n",
       "timemixer     0.176168  0.144182  \n",
       "vaformer      0.173027  0.130136  "
      ]
     },
     "execution_count": 52,
     "metadata": {},
     "output_type": "execute_result"
    }
   ],
   "source": [
    "merged_df"
   ]
  },
  {
   "cell_type": "code",
   "execution_count": 53,
   "id": "b5a8e087",
   "metadata": {},
   "outputs": [
    {
     "data": {
      "image/png": "[encoded data removed]",
      "text/plain": [
       "<Figure size 800x250 with 1 Axes>"
      ]
     },
     "metadata": {},
     "output_type": "display_data"
    }
   ],
   "source": [
    "results = merged_df.T\n",
    "methods = results.columns\n",
    "plot = plot_critical_difference(results.values, methods, alpha=0.05, width=8, test='nemenyi', lower_better=True)  "
   ]
  },
  {
   "cell_type": "code",
   "execution_count": null,
   "id": "8692ea6d",
   "metadata": {},
   "outputs": [],
   "source": []
  }
 ],
 "metadata": {
  "kernelspec": {
   "display_name": "anots",
   "language": "python",
   "name": "python3"
  },
  "language_info": {
   "codemirror_mode": {
    "name": "ipython",
    "version": 3
   },
   "file_extension": ".py",
   "mimetype": "text/x-python",
   "name": "python",
   "nbconvert_exporter": "python",
   "pygments_lexer": "ipython3",
   "version": "3.12.2"
  }
 },
 "nbformat": 4,
 "nbformat_minor": 5
}
