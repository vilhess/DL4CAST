{
 "cells": [
  {
   "cell_type": "code",
   "execution_count": 1,
   "id": "5926a382",
   "metadata": {},
   "outputs": [],
   "source": [
    "import pandas as pd\n",
    "from aeon.visualisation import plot_critical_difference"
   ]
  },
  {
   "cell_type": "code",
   "execution_count": 7,
   "id": "ee247676",
   "metadata": {},
   "outputs": [],
   "source": [
    "df = pd.read_json(\"results/multivariate/mse.json\")"
   ]
  },
  {
   "cell_type": "code",
   "execution_count": 8,
   "id": "364641c9",
   "metadata": {},
   "outputs": [],
   "source": [
    "datasets = df.columns.tolist()\n",
    "contexts = df.index.tolist()\n",
    "TARGET_LEN=24\n",
    "new_df = {}\n",
    "\n",
    "for ctx_len in contexts:\n",
    "    subdf = df.loc[ctx_len]\n",
    "    for dataset in datasets:\n",
    "        curr_ds = subdf[dataset]\n",
    "        try:\n",
    "            curr_ds = curr_ds[str(TARGET_LEN)]\n",
    "            if dataset not in new_df:\n",
    "                new_df[dataset] = {}\n",
    "            for model, mse in curr_ds.items():\n",
    "                model_name = model + \"_\" + str(ctx_len)\n",
    "                new_df[dataset][model_name] = mse\n",
    "        except:\n",
    "            continue\n",
    "\n",
    "df = pd.DataFrame(new_df)\n"
   ]
  },
  {
   "cell_type": "code",
   "execution_count": 9,
   "id": "eb00c7ce",
   "metadata": {},
   "outputs": [],
   "source": [
    "model_names = df.index.str.extract(r'^(.*)_\\d+$')[0].values.tolist()\n",
    "df['model'] = model_names\n",
    "\n",
    "# Step 2: Group by model and aggregate using first non-NaN per column\n",
    "merged_df = df.groupby('model').agg(lambda col: col.dropna().iloc[0] if not col.dropna().empty else pd.NA)\n",
    "\n",
    "# Optional: sort for readability\n",
    "merged_df = merged_df.sort_index()"
   ]
  },
  {
   "cell_type": "code",
   "execution_count": 10,
   "id": "d6a3cb9b",
   "metadata": {},
   "outputs": [
    {
     "data": {
      "text/html": [
       "<div>\n",
       "<style scoped>\n",
       "    .dataframe tbody tr th:only-of-type {\n",
       "        vertical-align: middle;\n",
       "    }\n",
       "\n",
       "    .dataframe tbody tr th {\n",
       "        vertical-align: top;\n",
       "    }\n",
       "\n",
       "    .dataframe thead th {\n",
       "        text-align: right;\n",
       "    }\n",
       "</style>\n",
       "<table border=\"1\" class=\"dataframe\">\n",
       "  <thead>\n",
       "    <tr style=\"text-align: right;\">\n",
       "      <th></th>\n",
       "      <th>national_illness</th>\n",
       "      <th>exchange_rate</th>\n",
       "      <th>etth2</th>\n",
       "      <th>etth1</th>\n",
       "      <th>ettm1</th>\n",
       "      <th>ettm2</th>\n",
       "      <th>weather</th>\n",
       "    </tr>\n",
       "    <tr>\n",
       "      <th>model</th>\n",
       "      <th></th>\n",
       "      <th></th>\n",
       "      <th></th>\n",
       "      <th></th>\n",
       "      <th></th>\n",
       "      <th></th>\n",
       "      <th></th>\n",
       "    </tr>\n",
       "  </thead>\n",
       "  <tbody>\n",
       "    <tr>\n",
       "      <th>crossformer</th>\n",
       "      <td>3.606461</td>\n",
       "      <td>0.087878</td>\n",
       "      <td>0.121957</td>\n",
       "      <td>0.324467</td>\n",
       "      <td>0.219503</td>\n",
       "      <td>0.068553</td>\n",
       "      <td>0.084577</td>\n",
       "    </tr>\n",
       "    <tr>\n",
       "      <th>itransformer</th>\n",
       "      <td>3.626936</td>\n",
       "      <td>0.034832</td>\n",
       "      <td>0.129704</td>\n",
       "      <td>0.345239</td>\n",
       "      <td>0.273449</td>\n",
       "      <td>0.078996</td>\n",
       "      <td>0.110265</td>\n",
       "    </tr>\n",
       "    <tr>\n",
       "      <th>moment</th>\n",
       "      <td>2.752347</td>\n",
       "      <td>0.045100</td>\n",
       "      <td>0.242549</td>\n",
       "      <td>0.355785</td>\n",
       "      <td>0.276174</td>\n",
       "      <td>0.172010</td>\n",
       "      <td>0.245127</td>\n",
       "    </tr>\n",
       "    <tr>\n",
       "      <th>patchtst</th>\n",
       "      <td>3.740494</td>\n",
       "      <td>0.031071</td>\n",
       "      <td>0.127681</td>\n",
       "      <td>0.396006</td>\n",
       "      <td>0.224546</td>\n",
       "      <td>0.065345</td>\n",
       "      <td>0.088666</td>\n",
       "    </tr>\n",
       "    <tr>\n",
       "      <th>samformer</th>\n",
       "      <td>4.458724</td>\n",
       "      <td>0.209166</td>\n",
       "      <td>0.194170</td>\n",
       "      <td>0.605898</td>\n",
       "      <td>0.567232</td>\n",
       "      <td>0.127837</td>\n",
       "      <td>0.254198</td>\n",
       "    </tr>\n",
       "    <tr>\n",
       "      <th>timemixer</th>\n",
       "      <td>2.222457</td>\n",
       "      <td>0.024884</td>\n",
       "      <td>0.124169</td>\n",
       "      <td>0.356819</td>\n",
       "      <td>0.275506</td>\n",
       "      <td>0.070083</td>\n",
       "      <td>0.102729</td>\n",
       "    </tr>\n",
       "    <tr>\n",
       "      <th>vaformer</th>\n",
       "      <td>2.215279</td>\n",
       "      <td>0.026501</td>\n",
       "      <td>0.120829</td>\n",
       "      <td>0.327205</td>\n",
       "      <td>0.260865</td>\n",
       "      <td>0.069834</td>\n",
       "      <td>0.096052</td>\n",
       "    </tr>\n",
       "  </tbody>\n",
       "</table>\n",
       "</div>"
      ],
      "text/plain": [
       "              national_illness  exchange_rate     etth2     etth1     ettm1  \\\n",
       "model                                                                         \n",
       "crossformer           3.606461       0.087878  0.121957  0.324467  0.219503   \n",
       "itransformer          3.626936       0.034832  0.129704  0.345239  0.273449   \n",
       "moment                2.752347       0.045100  0.242549  0.355785  0.276174   \n",
       "patchtst              3.740494       0.031071  0.127681  0.396006  0.224546   \n",
       "samformer             4.458724       0.209166  0.194170  0.605898  0.567232   \n",
       "timemixer             2.222457       0.024884  0.124169  0.356819  0.275506   \n",
       "vaformer              2.215279       0.026501  0.120829  0.327205  0.260865   \n",
       "\n",
       "                 ettm2   weather  \n",
       "model                             \n",
       "crossformer   0.068553  0.084577  \n",
       "itransformer  0.078996  0.110265  \n",
       "moment        0.172010  0.245127  \n",
       "patchtst      0.065345  0.088666  \n",
       "samformer     0.127837  0.254198  \n",
       "timemixer     0.070083  0.102729  \n",
       "vaformer      0.069834  0.096052  "
      ]
     },
     "execution_count": 10,
     "metadata": {},
     "output_type": "execute_result"
    }
   ],
   "source": [
    "merged_df"
   ]
  },
  {
   "cell_type": "code",
   "execution_count": 11,
   "id": "b5a8e087",
   "metadata": {},
   "outputs": [
    {
     "data": {
      "image/png": "[encoded data removed]",
      "text/plain": [
       "<Figure size 800x260 with 1 Axes>"
      ]
     },
     "metadata": {},
     "output_type": "display_data"
    }
   ],
   "source": [
    "results = merged_df.T\n",
    "methods = results.columns\n",
    "plot = plot_critical_difference(results.values, methods, alpha=0.05, width=8, test='nemenyi', lower_better=True)  "
   ]
  },
  {
   "cell_type": "code",
   "execution_count": null,
   "id": "8692ea6d",
   "metadata": {},
   "outputs": [],
   "source": []
  }
 ],
 "metadata": {
  "kernelspec": {
   "display_name": "anots",
   "language": "python",
   "name": "python3"
  },
  "language_info": {
   "codemirror_mode": {
    "name": "ipython",
    "version": 3
   },
   "file_extension": ".py",
   "mimetype": "text/x-python",
   "name": "python",
   "nbconvert_exporter": "python",
   "pygments_lexer": "ipython3",
   "version": "3.12.2"
  }
 },
 "nbformat": 4,
 "nbformat_minor": 5
}
