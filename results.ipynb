{
 "cells": [
  {
   "cell_type": "code",
   "execution_count": 61,
   "id": "5926a382",
   "metadata": {},
   "outputs": [],
   "source": [
    "import pandas as pd\n",
    "from aeon.visualisation import plot_critical_difference"
   ]
  },
  {
   "cell_type": "code",
   "execution_count": 67,
   "id": "ee247676",
   "metadata": {},
   "outputs": [],
   "source": [
    "df = pd.read_json(\"results/multivariate/mae.json\")"
   ]
  },
  {
   "cell_type": "code",
   "execution_count": 68,
   "id": "364641c9",
   "metadata": {},
   "outputs": [
    {
     "name": "stderr",
     "output_type": "stream",
     "text": [
      "/var/folders/03/23xsm68s2z31cb34lbb3rlwh0000gn/T/ipykernel_5619/994240337.py:24: FutureWarning: ChainedAssignmentError: behaviour will change in pandas 3.0!\n",
      "You are setting values through chained assignment. Currently this works in certain cases, but when using Copy-on-Write (which will become the default behaviour in pandas 3.0) this will never work to update the original DataFrame or Series, because the intermediate object on which we are setting values will behave as a copy.\n",
      "A typical example is when you are setting values in a column of a DataFrame, like:\n",
      "\n",
      "df[\"col\"][row_indexer] = value\n",
      "\n",
      "Use `df.loc[row_indexer, \"col\"] = values` instead, to perform the assignment in a single step and ensure this keeps updating the original `df`.\n",
      "\n",
      "See the caveats in the documentation: https://pandas.pydata.org/pandas-docs/stable/user_guide/indexing.html#returning-a-view-versus-a-copy\n",
      "\n",
      "  df[\"national_illness\"][\"patchtst_336\"] = df[\"national_illness\"][\"patchtst_104\"]\n"
     ]
    }
   ],
   "source": [
    "datasets = df.columns.tolist()\n",
    "contexts = df.index.tolist()\n",
    "TARGET_LEN=96\n",
    "new_df = {}\n",
    "\n",
    "for ctx_len in contexts:\n",
    "    subdf = df.loc[ctx_len]\n",
    "    for dataset in datasets:\n",
    "        curr_ds = subdf[dataset]\n",
    "        try:\n",
    "            curr_ds = curr_ds[str(TARGET_LEN)]\n",
    "            if dataset not in new_df:\n",
    "                new_df[dataset] = {}\n",
    "            for model, mse in curr_ds.items():\n",
    "                model_name = model + \"_\" + str(ctx_len)\n",
    "                new_df[dataset][model_name] = mse\n",
    "        except:\n",
    "            continue\n",
    "\n",
    "df = pd.DataFrame(new_df)\n",
    "\n",
    "\n",
    "\n",
    "df[\"national_illness\"][\"patchtst_336\"] = df[\"national_illness\"][\"patchtst_104\"]\n",
    "# remove index patchtst_104\n",
    "df = df.drop(index=[\"patchtst_104\"])\n"
   ]
  },
  {
   "cell_type": "code",
   "execution_count": 69,
   "id": "7a2b53bb",
   "metadata": {},
   "outputs": [
    {
     "data": {
      "text/html": [
       "<div>\n",
       "<style scoped>\n",
       "    .dataframe tbody tr th:only-of-type {\n",
       "        vertical-align: middle;\n",
       "    }\n",
       "\n",
       "    .dataframe tbody tr th {\n",
       "        vertical-align: top;\n",
       "    }\n",
       "\n",
       "    .dataframe thead th {\n",
       "        text-align: right;\n",
       "    }\n",
       "</style>\n",
       "<table border=\"1\" class=\"dataframe\">\n",
       "  <thead>\n",
       "    <tr style=\"text-align: right;\">\n",
       "      <th></th>\n",
       "      <th>national_illness</th>\n",
       "      <th>exchange_rate</th>\n",
       "      <th>etth2</th>\n",
       "      <th>etth1</th>\n",
       "      <th>ettm1</th>\n",
       "      <th>ettm2</th>\n",
       "      <th>weather</th>\n",
       "    </tr>\n",
       "  </thead>\n",
       "  <tbody>\n",
       "    <tr>\n",
       "      <th>timemixer_96</th>\n",
       "      <td>0.973360</td>\n",
       "      <td>0.209628</td>\n",
       "      <td>0.306914</td>\n",
       "      <td>0.473595</td>\n",
       "      <td>0.434218</td>\n",
       "      <td>0.234528</td>\n",
       "      <td>0.221931</td>\n",
       "    </tr>\n",
       "    <tr>\n",
       "      <th>itransformer_96</th>\n",
       "      <td>1.530524</td>\n",
       "      <td>0.229580</td>\n",
       "      <td>0.301481</td>\n",
       "      <td>0.460570</td>\n",
       "      <td>0.419593</td>\n",
       "      <td>0.241877</td>\n",
       "      <td>0.222640</td>\n",
       "    </tr>\n",
       "    <tr>\n",
       "      <th>vaformer_96</th>\n",
       "      <td>0.904457</td>\n",
       "      <td>0.217358</td>\n",
       "      <td>0.293814</td>\n",
       "      <td>0.457227</td>\n",
       "      <td>0.418255</td>\n",
       "      <td>0.231557</td>\n",
       "      <td>0.205074</td>\n",
       "    </tr>\n",
       "    <tr>\n",
       "      <th>moment_512</th>\n",
       "      <td>1.180553</td>\n",
       "      <td>0.241170</td>\n",
       "      <td>0.300821</td>\n",
       "      <td>0.459601</td>\n",
       "      <td>0.371468</td>\n",
       "      <td>0.286987</td>\n",
       "      <td>0.209376</td>\n",
       "    </tr>\n",
       "    <tr>\n",
       "      <th>patchtst_336</th>\n",
       "      <td>1.489344</td>\n",
       "      <td>0.223509</td>\n",
       "      <td>0.300685</td>\n",
       "      <td>0.485919</td>\n",
       "      <td>0.372185</td>\n",
       "      <td>0.222996</td>\n",
       "      <td>0.199529</td>\n",
       "    </tr>\n",
       "  </tbody>\n",
       "</table>\n",
       "</div>"
      ],
      "text/plain": [
       "                 national_illness  exchange_rate     etth2     etth1  \\\n",
       "timemixer_96             0.973360       0.209628  0.306914  0.473595   \n",
       "itransformer_96          1.530524       0.229580  0.301481  0.460570   \n",
       "vaformer_96              0.904457       0.217358  0.293814  0.457227   \n",
       "moment_512               1.180553       0.241170  0.300821  0.459601   \n",
       "patchtst_336             1.489344       0.223509  0.300685  0.485919   \n",
       "\n",
       "                    ettm1     ettm2   weather  \n",
       "timemixer_96     0.434218  0.234528  0.221931  \n",
       "itransformer_96  0.419593  0.241877  0.222640  \n",
       "vaformer_96      0.418255  0.231557  0.205074  \n",
       "moment_512       0.371468  0.286987  0.209376  \n",
       "patchtst_336     0.372185  0.222996  0.199529  "
      ]
     },
     "execution_count": 69,
     "metadata": {},
     "output_type": "execute_result"
    }
   ],
   "source": [
    "df"
   ]
  },
  {
   "cell_type": "code",
   "execution_count": 70,
   "id": "b5a8e087",
   "metadata": {},
   "outputs": [
    {
     "data": {
      "image/png": "[encoded data removed]",
      "text/plain": [
       "<Figure size 800x240 with 1 Axes>"
      ]
     },
     "metadata": {},
     "output_type": "display_data"
    }
   ],
   "source": [
    "results = df.T\n",
    "methods = results.columns\n",
    "plot = plot_critical_difference(results.values, methods, alpha=0.05, width=8, test='nemenyi', lower_better=True)  "
   ]
  },
  {
   "cell_type": "code",
   "execution_count": null,
   "id": "45662cfc",
   "metadata": {},
   "outputs": [],
   "source": []
  }
 ],
 "metadata": {
  "kernelspec": {
   "display_name": "anots",
   "language": "python",
   "name": "python3"
  },
  "language_info": {
   "codemirror_mode": {
    "name": "ipython",
    "version": 3
   },
   "file_extension": ".py",
   "mimetype": "text/x-python",
   "name": "python",
   "nbconvert_exporter": "python",
   "pygments_lexer": "ipython3",
   "version": "undefined.undefined.undefined"
  }
 },
 "nbformat": 4,
 "nbformat_minor": 5
}
